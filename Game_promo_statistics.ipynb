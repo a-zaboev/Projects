{
 "cells": [
  {
   "cell_type": "markdown",
   "metadata": {},
   "source": [
    "Имеются результаты A/B теста, в котором двум группам пользователей предлагались различные наборы акционных предложений. Известно, что ARPU в тестовой группе выше на 5%, чем в контрольной. При этом в контрольной группе 1928 игроков из 202103 оказались платящими, а в тестовой – 1805 из 202667.\n",
    "Ответим на вопросы:\n",
    "- Какой набор предложений можно считать лучшим? \n",
    "- Какие метрики стоит проанализировать для принятия правильного решения и как?"
   ]
  },
  {
   "cell_type": "code",
   "execution_count": 1,
   "metadata": {},
   "outputs": [],
   "source": [
    "import pandas as pd\n",
    "import seaborn as sns\n",
    "import matplotlib.pyplot as plt\n",
    "import numpy as np\n",
    "\n",
    "import scipy.stats as stats"
   ]
  },
  {
   "cell_type": "markdown",
   "metadata": {},
   "source": [
    "### Посмотрим на данные"
   ]
  },
  {
   "cell_type": "code",
   "execution_count": 2,
   "metadata": {},
   "outputs": [],
   "source": [
    "AB_mobil_games = pd.read_csv('~/Проект_1_Задание_2.csv', sep = ';')"
   ]
  },
  {
   "cell_type": "code",
   "execution_count": 3,
   "metadata": {},
   "outputs": [
    {
     "data": {
      "text/plain": [
       "(404770, 3)"
      ]
     },
     "execution_count": 3,
     "metadata": {},
     "output_type": "execute_result"
    }
   ],
   "source": [
    "AB_mobil_games.shape"
   ]
  },
  {
   "cell_type": "code",
   "execution_count": 4,
   "metadata": {},
   "outputs": [
    {
     "data": {
      "text/plain": [
       "user_id       int64\n",
       "revenue       int64\n",
       "testgroup    object\n",
       "dtype: object"
      ]
     },
     "execution_count": 4,
     "metadata": {},
     "output_type": "execute_result"
    }
   ],
   "source": [
    "AB_mobil_games.dtypes"
   ]
  },
  {
   "cell_type": "code",
   "execution_count": 5,
   "metadata": {},
   "outputs": [
    {
     "data": {
      "text/plain": [
       "404770"
      ]
     },
     "execution_count": 5,
     "metadata": {},
     "output_type": "execute_result"
    }
   ],
   "source": [
    "AB_mobil_games.user_id.nunique()"
   ]
  },
  {
   "cell_type": "markdown",
   "metadata": {},
   "source": [
    "- id пользователей похожи на id в первом задании, уникальных пользоваетелй меньше, но это и логично, тесты проводят не на всех\n",
    "- количество уникальных пользователей равно количеству строк в датафрейме, а значит по каждому пользователю есть только одна ячейка данных о сумме покупок, то есть, к примеру, метрика - среднее число покупок будет не показательна "
   ]
  },
  {
   "cell_type": "markdown",
   "metadata": {},
   "source": [
    "#### Разберёмся, какая из групп тестовая, а какая контрольная:"
   ]
  },
  {
   "cell_type": "code",
   "execution_count": 6,
   "metadata": {},
   "outputs": [
    {
     "data": {
      "text/html": [
       "<div>\n",
       "<style scoped>\n",
       "    .dataframe tbody tr th:only-of-type {\n",
       "        vertical-align: middle;\n",
       "    }\n",
       "\n",
       "    .dataframe tbody tr th {\n",
       "        vertical-align: top;\n",
       "    }\n",
       "\n",
       "    .dataframe thead th {\n",
       "        text-align: right;\n",
       "    }\n",
       "</style>\n",
       "<table border=\"1\" class=\"dataframe\">\n",
       "  <thead>\n",
       "    <tr style=\"text-align: right;\">\n",
       "      <th></th>\n",
       "      <th>testgroup</th>\n",
       "      <th>user_id</th>\n",
       "    </tr>\n",
       "  </thead>\n",
       "  <tbody>\n",
       "    <tr>\n",
       "      <th>0</th>\n",
       "      <td>a</td>\n",
       "      <td>202103</td>\n",
       "    </tr>\n",
       "    <tr>\n",
       "      <th>1</th>\n",
       "      <td>b</td>\n",
       "      <td>202667</td>\n",
       "    </tr>\n",
       "  </tbody>\n",
       "</table>\n",
       "</div>"
      ],
      "text/plain": [
       "  testgroup  user_id\n",
       "0         a   202103\n",
       "1         b   202667"
      ]
     },
     "execution_count": 6,
     "metadata": {},
     "output_type": "execute_result"
    }
   ],
   "source": [
    "# посчитаем количество пользователей\n",
    "AB_mobil_games.groupby('testgroup', as_index=False).agg({'user_id':'count'})"
   ]
  },
  {
   "cell_type": "code",
   "execution_count": 7,
   "metadata": {},
   "outputs": [
    {
     "data": {
      "text/plain": [
       "1928"
      ]
     },
     "execution_count": 7,
     "metadata": {},
     "output_type": "execute_result"
    }
   ],
   "source": [
    "#посчитаем платящих пользователей в каждой из групп\n",
    "AB_mobil_games.query('testgroup == \"a\"').query('revenue > 0')['user_id'].count()"
   ]
  },
  {
   "cell_type": "code",
   "execution_count": 8,
   "metadata": {},
   "outputs": [
    {
     "data": {
      "text/plain": [
       "1805"
      ]
     },
     "execution_count": 8,
     "metadata": {},
     "output_type": "execute_result"
    }
   ],
   "source": [
    "#посчитаем платящих пользователей в каждой из групп\n",
    "AB_mobil_games.query('testgroup == \"b\"').query('revenue > 0')['user_id'].count()"
   ]
  },
  {
   "cell_type": "code",
   "execution_count": 9,
   "metadata": {},
   "outputs": [
    {
     "data": {
      "text/plain": [
       "25.413719736965806"
      ]
     },
     "execution_count": 9,
     "metadata": {},
     "output_type": "execute_result"
    }
   ],
   "source": [
    "#посчитаем ARPU в каждой из групп\n",
    "AB_mobil_games.query('testgroup == \"a\"')['revenue'].sum() / AB_mobil_games.query('testgroup == \"a\"')['revenue'].count()"
   ]
  },
  {
   "cell_type": "code",
   "execution_count": 10,
   "metadata": {},
   "outputs": [
    {
     "data": {
      "text/plain": [
       "26.75128659327863"
      ]
     },
     "execution_count": 10,
     "metadata": {},
     "output_type": "execute_result"
    }
   ],
   "source": [
    "#посчитаем ARPU в каждой из групп\n",
    "AB_mobil_games.query('testgroup == \"b\"')['revenue'].sum() / AB_mobil_games.query('testgroup == \"b\"')['revenue'].count()"
   ]
  },
  {
   "cell_type": "code",
   "execution_count": 11,
   "metadata": {},
   "outputs": [
    {
     "data": {
      "text/plain": [
       "25.413722263614698"
      ]
     },
     "execution_count": 11,
     "metadata": {},
     "output_type": "execute_result"
    }
   ],
   "source": [
    "#вычислим 5% у большей группы и вычтем их из её размера\n",
    "26.75128659327863 - (26.75128659327863 / 100 * 5)"
   ]
  },
  {
   "cell_type": "markdown",
   "metadata": {},
   "source": [
    "- в группе a 1928 платящих пользователей, как в контрольной, в группе b - 1805, как в тестовой, согласно заданию\n",
    "- в группе a всего 202103 пользователя, как в контрольной, в группе b - 202667, как в тестовой, согласно заданию\n",
    "- в группе b ARPU составляет 26.7512, что на 5% (с округлением до 4 знака) выше, чем в группе a (25.4137) \n",
    "- получается, что a - это контрольная группа, а b - тестовая."
   ]
  },
  {
   "cell_type": "markdown",
   "metadata": {},
   "source": [
    "#### переименуем названия групп осмысленно:"
   ]
  },
  {
   "cell_type": "code",
   "execution_count": 12,
   "metadata": {},
   "outputs": [],
   "source": [
    "AB_mobil_games['testgroup'] = AB_mobil_games['testgroup'].replace({'a':'control', 'b' : 'test'})"
   ]
  },
  {
   "cell_type": "code",
   "execution_count": 13,
   "metadata": {},
   "outputs": [
    {
     "data": {
      "text/html": [
       "<div>\n",
       "<style scoped>\n",
       "    .dataframe tbody tr th:only-of-type {\n",
       "        vertical-align: middle;\n",
       "    }\n",
       "\n",
       "    .dataframe tbody tr th {\n",
       "        vertical-align: top;\n",
       "    }\n",
       "\n",
       "    .dataframe thead th {\n",
       "        text-align: right;\n",
       "    }\n",
       "</style>\n",
       "<table border=\"1\" class=\"dataframe\">\n",
       "  <thead>\n",
       "    <tr style=\"text-align: right;\">\n",
       "      <th></th>\n",
       "      <th>user_id</th>\n",
       "      <th>revenue</th>\n",
       "      <th>testgroup</th>\n",
       "    </tr>\n",
       "  </thead>\n",
       "  <tbody>\n",
       "    <tr>\n",
       "      <th>72</th>\n",
       "      <td>73</td>\n",
       "      <td>351</td>\n",
       "      <td>control</td>\n",
       "    </tr>\n",
       "    <tr>\n",
       "      <th>341</th>\n",
       "      <td>342</td>\n",
       "      <td>290</td>\n",
       "      <td>control</td>\n",
       "    </tr>\n",
       "    <tr>\n",
       "      <th>385</th>\n",
       "      <td>386</td>\n",
       "      <td>250</td>\n",
       "      <td>control</td>\n",
       "    </tr>\n",
       "    <tr>\n",
       "      <th>416</th>\n",
       "      <td>417</td>\n",
       "      <td>37324</td>\n",
       "      <td>control</td>\n",
       "    </tr>\n",
       "    <tr>\n",
       "      <th>712</th>\n",
       "      <td>713</td>\n",
       "      <td>255</td>\n",
       "      <td>control</td>\n",
       "    </tr>\n",
       "    <tr>\n",
       "      <th>...</th>\n",
       "      <td>...</td>\n",
       "      <td>...</td>\n",
       "      <td>...</td>\n",
       "    </tr>\n",
       "    <tr>\n",
       "      <th>404304</th>\n",
       "      <td>404305</td>\n",
       "      <td>360</td>\n",
       "      <td>control</td>\n",
       "    </tr>\n",
       "    <tr>\n",
       "      <th>404315</th>\n",
       "      <td>404316</td>\n",
       "      <td>262</td>\n",
       "      <td>control</td>\n",
       "    </tr>\n",
       "    <tr>\n",
       "      <th>404543</th>\n",
       "      <td>404544</td>\n",
       "      <td>369</td>\n",
       "      <td>control</td>\n",
       "    </tr>\n",
       "    <tr>\n",
       "      <th>404602</th>\n",
       "      <td>404603</td>\n",
       "      <td>251</td>\n",
       "      <td>control</td>\n",
       "    </tr>\n",
       "    <tr>\n",
       "      <th>404767</th>\n",
       "      <td>404768</td>\n",
       "      <td>231</td>\n",
       "      <td>control</td>\n",
       "    </tr>\n",
       "  </tbody>\n",
       "</table>\n",
       "<p>1928 rows × 3 columns</p>\n",
       "</div>"
      ],
      "text/plain": [
       "        user_id  revenue testgroup\n",
       "72           73      351   control\n",
       "341         342      290   control\n",
       "385         386      250   control\n",
       "416         417    37324   control\n",
       "712         713      255   control\n",
       "...         ...      ...       ...\n",
       "404304   404305      360   control\n",
       "404315   404316      262   control\n",
       "404543   404544      369   control\n",
       "404602   404603      251   control\n",
       "404767   404768      231   control\n",
       "\n",
       "[1928 rows x 3 columns]"
      ]
     },
     "execution_count": 13,
     "metadata": {},
     "output_type": "execute_result"
    }
   ],
   "source": [
    "AB_mobil_games.query('testgroup == \"control\"').query('revenue > 0')"
   ]
  },
  {
   "cell_type": "markdown",
   "metadata": {},
   "source": [
    "Первичные выводы:\n",
    "- среднее число покупок, как говорилось выше, всегда будет 1\n",
    "- нет данных о времени покупок, поэтому отпадет возможность посчитать скорость второй и последущей покупок, пожизненную ценность, удержание, DAU, MAU и пр.\n",
    "- количество товаров в заказе не рассчитать \n",
    "- возможно данные для каждого пользователя уже суммированы по нескольким покупкам, а может это и одна покупка\n",
    "\n",
    "Можем посчитать:\n",
    "- 1 ARPU (что-то о нём мы знаем из условий, кроме того, он у нас равен среднему чеку). Навскидку, метрика для нас нежелательная.\n",
    "- 2 ARPPU - большинство пользователей в обеих группах не платят, это мешает оценить коммерческий эффект. Как раз доход с платящего пользователя будет более чувствителен.\n",
    "- 3 CR - конверсия пользователя в покупателя, другими словами, доля платящих пользователей из всех. Новые акционные предложения прямым образом должны влиять на CR в покупку.\n",
    "\n",
    "    - дополнительно посмотрим общую выручку"
   ]
  },
  {
   "cell_type": "markdown",
   "metadata": {},
   "source": [
    "### Метрика 1 ARPU\n",
    "\n",
    "средний доход с пользователя"
   ]
  },
  {
   "cell_type": "markdown",
   "metadata": {},
   "source": [
    "#### Визуализируем данные по покупкам. Контрольная группа:"
   ]
  },
  {
   "cell_type": "code",
   "execution_count": 30,
   "metadata": {},
   "outputs": [
    {
     "data": {
      "text/plain": [
       "<matplotlib.axes._subplots.AxesSubplot at 0x7f147f0e6668>"
      ]
     },
     "execution_count": 30,
     "metadata": {},
     "output_type": "execute_result"
    },
    {
     "data": {
      "image/png": "[encoded data removed]",
      "text/plain": [
       "<Figure size 432x288 with 1 Axes>"
      ]
     },
     "metadata": {
      "needs_background": "light"
     },
     "output_type": "display_data"
    }
   ],
   "source": [
    "sns.histplot(AB_mobil_games.query('testgroup == \"control\"').query('revenue > 0')['revenue'], bins=20)\n",
    "#сразу избавимся от нулевых значений, их слишком много, но так как это ARPU, то мы их должны учесть в дальнейшем"
   ]
  },
  {
   "cell_type": "markdown",
   "metadata": {},
   "source": [
    "#### есть выбросы аж за 35000:"
   ]
  },
  {
   "cell_type": "code",
   "execution_count": 31,
   "metadata": {},
   "outputs": [
    {
     "data": {
      "text/html": [
       "<div>\n",
       "<style scoped>\n",
       "    .dataframe tbody tr th:only-of-type {\n",
       "        vertical-align: middle;\n",
       "    }\n",
       "\n",
       "    .dataframe tbody tr th {\n",
       "        vertical-align: top;\n",
       "    }\n",
       "\n",
       "    .dataframe thead th {\n",
       "        text-align: right;\n",
       "    }\n",
       "</style>\n",
       "<table border=\"1\" class=\"dataframe\">\n",
       "  <thead>\n",
       "    <tr style=\"text-align: right;\">\n",
       "      <th></th>\n",
       "      <th>user_id</th>\n",
       "      <th>revenue</th>\n",
       "      <th>testgroup</th>\n",
       "    </tr>\n",
       "  </thead>\n",
       "  <tbody>\n",
       "    <tr>\n",
       "      <th>88358</th>\n",
       "      <td>88359</td>\n",
       "      <td>37341</td>\n",
       "      <td>control</td>\n",
       "    </tr>\n",
       "    <tr>\n",
       "      <th>321550</th>\n",
       "      <td>321551</td>\n",
       "      <td>37342</td>\n",
       "      <td>control</td>\n",
       "    </tr>\n",
       "    <tr>\n",
       "      <th>321014</th>\n",
       "      <td>321015</td>\n",
       "      <td>37344</td>\n",
       "      <td>control</td>\n",
       "    </tr>\n",
       "    <tr>\n",
       "      <th>173850</th>\n",
       "      <td>173851</td>\n",
       "      <td>37345</td>\n",
       "      <td>control</td>\n",
       "    </tr>\n",
       "    <tr>\n",
       "      <th>360696</th>\n",
       "      <td>360697</td>\n",
       "      <td>37347</td>\n",
       "      <td>control</td>\n",
       "    </tr>\n",
       "    <tr>\n",
       "      <th>343212</th>\n",
       "      <td>343213</td>\n",
       "      <td>37349</td>\n",
       "      <td>control</td>\n",
       "    </tr>\n",
       "    <tr>\n",
       "      <th>183253</th>\n",
       "      <td>183254</td>\n",
       "      <td>37351</td>\n",
       "      <td>control</td>\n",
       "    </tr>\n",
       "    <tr>\n",
       "      <th>356812</th>\n",
       "      <td>356813</td>\n",
       "      <td>37353</td>\n",
       "      <td>control</td>\n",
       "    </tr>\n",
       "    <tr>\n",
       "      <th>144685</th>\n",
       "      <td>144686</td>\n",
       "      <td>37355</td>\n",
       "      <td>control</td>\n",
       "    </tr>\n",
       "    <tr>\n",
       "      <th>215440</th>\n",
       "      <td>215441</td>\n",
       "      <td>37357</td>\n",
       "      <td>control</td>\n",
       "    </tr>\n",
       "    <tr>\n",
       "      <th>287698</th>\n",
       "      <td>287699</td>\n",
       "      <td>37360</td>\n",
       "      <td>control</td>\n",
       "    </tr>\n",
       "    <tr>\n",
       "      <th>76986</th>\n",
       "      <td>76987</td>\n",
       "      <td>37363</td>\n",
       "      <td>control</td>\n",
       "    </tr>\n",
       "    <tr>\n",
       "      <th>175825</th>\n",
       "      <td>175826</td>\n",
       "      <td>37366</td>\n",
       "      <td>control</td>\n",
       "    </tr>\n",
       "    <tr>\n",
       "      <th>174390</th>\n",
       "      <td>174391</td>\n",
       "      <td>37369</td>\n",
       "      <td>control</td>\n",
       "    </tr>\n",
       "    <tr>\n",
       "      <th>229054</th>\n",
       "      <td>229055</td>\n",
       "      <td>37374</td>\n",
       "      <td>control</td>\n",
       "    </tr>\n",
       "    <tr>\n",
       "      <th>142804</th>\n",
       "      <td>142805</td>\n",
       "      <td>37379</td>\n",
       "      <td>control</td>\n",
       "    </tr>\n",
       "    <tr>\n",
       "      <th>21585</th>\n",
       "      <td>21586</td>\n",
       "      <td>37385</td>\n",
       "      <td>control</td>\n",
       "    </tr>\n",
       "    <tr>\n",
       "      <th>65077</th>\n",
       "      <td>65078</td>\n",
       "      <td>37394</td>\n",
       "      <td>control</td>\n",
       "    </tr>\n",
       "    <tr>\n",
       "      <th>196601</th>\n",
       "      <td>196602</td>\n",
       "      <td>37407</td>\n",
       "      <td>control</td>\n",
       "    </tr>\n",
       "    <tr>\n",
       "      <th>101861</th>\n",
       "      <td>101862</td>\n",
       "      <td>37433</td>\n",
       "      <td>control</td>\n",
       "    </tr>\n",
       "  </tbody>\n",
       "</table>\n",
       "</div>"
      ],
      "text/plain": [
       "        user_id  revenue testgroup\n",
       "88358     88359    37341   control\n",
       "321550   321551    37342   control\n",
       "321014   321015    37344   control\n",
       "173850   173851    37345   control\n",
       "360696   360697    37347   control\n",
       "343212   343213    37349   control\n",
       "183253   183254    37351   control\n",
       "356812   356813    37353   control\n",
       "144685   144686    37355   control\n",
       "215440   215441    37357   control\n",
       "287698   287699    37360   control\n",
       "76986     76987    37363   control\n",
       "175825   175826    37366   control\n",
       "174390   174391    37369   control\n",
       "229054   229055    37374   control\n",
       "142804   142805    37379   control\n",
       "21585     21586    37385   control\n",
       "65077     65078    37394   control\n",
       "196601   196602    37407   control\n",
       "101861   101862    37433   control"
      ]
     },
     "execution_count": 31,
     "metadata": {},
     "output_type": "execute_result"
    }
   ],
   "source": [
    "#смотрим максимальные значения\n",
    "AB_mobil_games.query('testgroup == \"control\"').query('revenue > 0').sort_values(by = 'revenue').tail(20)"
   ]
  },
  {
   "cell_type": "markdown",
   "metadata": {},
   "source": [
    "- есть много дорогих покупок, но их несоизмеримо меньше, чем недорогих, судя по графику. Надо посмотреть описание данных, чтобы понять распределение покупок."
   ]
  },
  {
   "cell_type": "code",
   "execution_count": 32,
   "metadata": {},
   "outputs": [
    {
     "data": {
      "text/plain": [
       "count     1928.000000\n",
       "mean      2663.998444\n",
       "std       9049.039763\n",
       "min        200.000000\n",
       "25%        257.000000\n",
       "50%        311.000000\n",
       "75%        361.000000\n",
       "max      37433.000000\n",
       "Name: revenue, dtype: float64"
      ]
     },
     "execution_count": 32,
     "metadata": {},
     "output_type": "execute_result"
    }
   ],
   "source": [
    "AB_mobil_games.query('testgroup == \"control\"').query('revenue > 0').sort_values(by = 'revenue')['revenue'].describe()\n",
    "#дорогих покупок меньше 25%. Ищем дальше"
   ]
  },
  {
   "cell_type": "code",
   "execution_count": 33,
   "metadata": {},
   "outputs": [
    {
     "data": {
      "text/plain": [
       "37295.0"
      ]
     },
     "execution_count": 33,
     "metadata": {},
     "output_type": "execute_result"
    }
   ],
   "source": [
    "AB_mobil_games.query('testgroup == \"control\"').query('revenue > 0')['revenue'].quantile(q=0.94)\n",
    "#примерил подхоящий квантиль для выброса"
   ]
  },
  {
   "cell_type": "markdown",
   "metadata": {},
   "source": [
    "- только около 6% покупок являются сверхдорогими, оставльные намного меньше и близки по величине между собой."
   ]
  },
  {
   "cell_type": "markdown",
   "metadata": {},
   "source": [
    "#### распеделение у нас будет явно ненормальным, но проверим для порядка:"
   ]
  },
  {
   "cell_type": "code",
   "execution_count": 34,
   "metadata": {},
   "outputs": [
    {
     "name": "stderr",
     "output_type": "stream",
     "text": [
      "/opt/tljh/user/lib/python3.7/site-packages/scipy/stats/morestats.py:1760: UserWarning: p-value may not be accurate for N > 5000.\n",
      "  warnings.warn(\"p-value may not be accurate for N > 5000.\")\n"
     ]
    },
    {
     "data": {
      "text/plain": [
       "ShapiroResult(statistic=0.008876502513885498, pvalue=0.0)"
      ]
     },
     "execution_count": 34,
     "metadata": {},
     "output_type": "execute_result"
    }
   ],
   "source": [
    "stats.shapiro(AB_mobil_games.query('testgroup == \"control\"')['revenue'])\n",
    "#совершенно не нормальное"
   ]
  },
  {
   "cell_type": "markdown",
   "metadata": {},
   "source": [
    "#### Визуализируем данные по покупкам. Тестовая группа:"
   ]
  },
  {
   "cell_type": "code",
   "execution_count": 35,
   "metadata": {},
   "outputs": [
    {
     "data": {
      "text/plain": [
       "<matplotlib.axes._subplots.AxesSubplot at 0x7f147ebdf5f8>"
      ]
     },
     "execution_count": 35,
     "metadata": {},
     "output_type": "execute_result"
    },
    {
     "data": {
      "image/png": "[encoded data removed]",
      "text/plain": [
       "<Figure size 432x288 with 1 Axes>"
      ]
     },
     "metadata": {
      "needs_background": "light"
     },
     "output_type": "display_data"
    }
   ],
   "source": [
    "sns.histplot(AB_mobil_games.query('testgroup == \"test\"').query('revenue > 0'), x='revenue')\n",
    "#сразу избавимся от нулевых значений, их слишком много, но так как это ARPU, то мы их должны учесть в дальнейшем"
   ]
  },
  {
   "cell_type": "markdown",
   "metadata": {},
   "source": [
    "- распределение с меньшими перепадами, почти ровное, на нормальное тоже не похоже, а с учётом необходимого нам для ARPU наличия нулевых покупок, точно не нормальное\n",
    "- в отличие от контрольно группы здесь более стабильные покупки"
   ]
  },
  {
   "cell_type": "markdown",
   "metadata": {},
   "source": [
    "#### также проверим на тесте Шапиро-Уилка:"
   ]
  },
  {
   "cell_type": "code",
   "execution_count": 36,
   "metadata": {},
   "outputs": [
    {
     "name": "stderr",
     "output_type": "stream",
     "text": [
      "/opt/tljh/user/lib/python3.7/site-packages/scipy/stats/morestats.py:1760: UserWarning: p-value may not be accurate for N > 5000.\n",
      "  warnings.warn(\"p-value may not be accurate for N > 5000.\")\n"
     ]
    },
    {
     "data": {
      "text/plain": [
       "ShapiroResult(statistic=0.06588172912597656, pvalue=0.0)"
      ]
     },
     "execution_count": 36,
     "metadata": {},
     "output_type": "execute_result"
    }
   ],
   "source": [
    "stats.shapiro(AB_mobil_games.query('testgroup == \"test\"')['revenue'])\n",
    "#совершенно не нормальное"
   ]
  },
  {
   "cell_type": "markdown",
   "metadata": {},
   "source": [
    "#### ещё раз посмотрим на ARPU у пользователей тестовой и контрольной групп (они же в нашем случе и AOV тоже):"
   ]
  },
  {
   "cell_type": "code",
   "execution_count": 39,
   "metadata": {},
   "outputs": [
    {
     "data": {
      "text/plain": [
       "26.75128659327863"
      ]
     },
     "execution_count": 39,
     "metadata": {},
     "output_type": "execute_result"
    }
   ],
   "source": [
    "AB_mobil_games.query('testgroup == \"test\"')['revenue'].mean()"
   ]
  },
  {
   "cell_type": "code",
   "execution_count": 38,
   "metadata": {},
   "outputs": [
    {
     "data": {
      "text/plain": [
       "25.413719736965806"
      ]
     },
     "execution_count": 38,
     "metadata": {},
     "output_type": "execute_result"
    }
   ],
   "source": [
    "AB_mobil_games.query('testgroup == \"control\"')['revenue'].mean()"
   ]
  },
  {
   "cell_type": "markdown",
   "metadata": {},
   "source": [
    "- очень небольшие значения и они очень близки между собой, хотя мы помним, что реальные покупки - это числа другого порядка и разница в характере покупок у групп есть значительная"
   ]
  },
  {
   "cell_type": "markdown",
   "metadata": {},
   "source": [
    "#### Формирование гипотез\n",
    "- H0 - акционный наборы у тестовой и контрольной группы одинаково влияют на средний доход с пользователя \n",
    "- H1 - акционные наборы дают различный эффект, в тестовой группе он немого лучше"
   ]
  },
  {
   "cell_type": "markdown",
   "metadata": {},
   "source": [
    "### Проведение AB-теста\n",
    "#### Чеки пользователей - количественные данные, распределены не нормально, с учётом значительных перепадов значений t-тест применять тут не следует, группы независимые и их две, при этом они примерно равны применяем критерий Манна-Уитни"
   ]
  },
  {
   "cell_type": "code",
   "execution_count": 40,
   "metadata": {},
   "outputs": [
    {
     "data": {
      "text/plain": [
       "MannwhitneyuResult(statistic=20468349325.0, pvalue=0.06269701316074398)"
      ]
     },
     "execution_count": 40,
     "metadata": {},
     "output_type": "execute_result"
    }
   ],
   "source": [
    "stats.mannwhitneyu(AB_mobil_games.query('testgroup == \"test\"')['revenue'], \\\n",
    "                   AB_mobil_games.query('testgroup == \"control\"')['revenue'])"
   ]
  },
  {
   "cell_type": "markdown",
   "metadata": {},
   "source": [
    "- (!) ARPU для пользователей в группах статистически значимо не отличаются (порог p-value для статистики учитываем как 0,05)\n",
    "<br><br>\n",
    "- в целом эту метрику учитывать не стоит: у нас слишком много неплатящих пользователей, то есть пользователей совсем отдельной категории, которую лучше вообще отсечь при анализе предложений (лучше подумать, как их перевести в категорию хоть сколько-то платящих и как увеличенить доход с них), кроме того метрика даже примерно не отражает реальных данных о сумме некоторой покупки (если мы конечно имеем единичную покупку, а не сумму многих покупок)\n",
    "- однако, при рассчёте обнаружились важные сведения о данных\n"
   ]
  },
  {
   "cell_type": "markdown",
   "metadata": {},
   "source": [
    "### Метрика 2 ARPPU\n",
    "\n",
    "средний доход с платящего пользователя"
   ]
  },
  {
   "cell_type": "markdown",
   "metadata": {},
   "source": [
    "Здесь как раз мы будем использовать данные о покупках кроме нулевых, поэтому визуализации из предыдущей части подойдут и сюда. Также мы можем их совместить."
   ]
  },
  {
   "cell_type": "code",
   "execution_count": 49,
   "metadata": {},
   "outputs": [
    {
     "data": {
      "text/plain": [
       "<seaborn.axisgrid.FacetGrid at 0x7f147e57e208>"
      ]
     },
     "execution_count": 49,
     "metadata": {},
     "output_type": "execute_result"
    },
    {
     "data": {
      "image/png": "[encoded data removed]",
      "text/plain": [
       "<Figure size 430.5x360 with 1 Axes>"
      ]
     },
     "metadata": {
      "needs_background": "light"
     },
     "output_type": "display_data"
    }
   ],
   "source": [
    "sns.displot(data=AB_mobil_games.query('revenue > 0'), x=\"revenue\", hue=\"testgroup\", bins=50)"
   ]
  },
  {
   "cell_type": "markdown",
   "metadata": {},
   "source": [
    "#### сначала проверим распределения на нормальность:"
   ]
  },
  {
   "cell_type": "code",
   "execution_count": 50,
   "metadata": {},
   "outputs": [
    {
     "data": {
      "text/plain": [
       "ShapiroResult(statistic=0.2667924761772156, pvalue=0.0)"
      ]
     },
     "execution_count": 50,
     "metadata": {},
     "output_type": "execute_result"
    }
   ],
   "source": [
    "stats.shapiro(AB_mobil_games.query('testgroup == \"control\"').query('revenue > 0')['revenue'])\n",
    "#у контрольной группы распределение не нормальное"
   ]
  },
  {
   "cell_type": "code",
   "execution_count": 51,
   "metadata": {},
   "outputs": [
    {
     "data": {
      "text/plain": [
       "ShapiroResult(statistic=0.9583123922348022, pvalue=2.491345674771425e-22)"
      ]
     },
     "execution_count": 51,
     "metadata": {},
     "output_type": "execute_result"
    }
   ],
   "source": [
    "stats.shapiro(AB_mobil_games.query('testgroup == \"test\"').query('revenue > 0')['revenue'])\n",
    "#у тестовой распределение также не нормальное"
   ]
  },
  {
   "cell_type": "markdown",
   "metadata": {},
   "source": [
    "#### посмотрим на ARPPU у пользователей тестовой и контрольной групп:"
   ]
  },
  {
   "cell_type": "code",
   "execution_count": 52,
   "metadata": {},
   "outputs": [
    {
     "data": {
      "text/plain": [
       "2663.9984439834025"
      ]
     },
     "execution_count": 52,
     "metadata": {},
     "output_type": "execute_result"
    }
   ],
   "source": [
    "AB_mobil_games.query('testgroup == \"control\"').query('revenue > 0')['revenue'].mean()"
   ]
  },
  {
   "cell_type": "code",
   "execution_count": 53,
   "metadata": {},
   "outputs": [
    {
     "data": {
      "text/plain": [
       "3003.6581717451522"
      ]
     },
     "execution_count": 53,
     "metadata": {},
     "output_type": "execute_result"
    }
   ],
   "source": [
    "AB_mobil_games.query('testgroup == \"test\"').query('revenue > 0')['revenue'].mean()"
   ]
  },
  {
   "cell_type": "markdown",
   "metadata": {},
   "source": [
    "- отличие заметное\n",
    "- доля различия в этой метрике выше, чем доля различия в размере групп"
   ]
  },
  {
   "cell_type": "markdown",
   "metadata": {},
   "source": [
    "#### Формирование гипотез\n",
    "- H0 - акционный наборы у тестовой и контрольной группы одинаково влияют на средний доход с платящего пользователя \n",
    "- H1 - акционные наборы дают различный эффект, в тестовой группе он немого лучше"
   ]
  },
  {
   "cell_type": "markdown",
   "metadata": {},
   "source": [
    "### Проведение AB-теста (1)\n",
    "#### Чеки пользователей - количественные данные, распределены не нормально, перепады значений в контрольной группе значительны, группы сильно не похожи по распределениям, группы независимые и их две, при этом они примерно равны. Как и в предыдущий раз применяем критерий Манна-Уитни"
   ]
  },
  {
   "cell_type": "code",
   "execution_count": 55,
   "metadata": {},
   "outputs": [
    {
     "data": {
      "text/plain": [
       "MannwhitneyuResult(statistic=222015.0, pvalue=0.0)"
      ]
     },
     "execution_count": 55,
     "metadata": {},
     "output_type": "execute_result"
    }
   ],
   "source": [
    "stats.mannwhitneyu(AB_mobil_games.query('testgroup == \"control\"').query('revenue != 0')['revenue'], \\\n",
    "                   AB_mobil_games.query('testgroup == \"test\"').query('revenue != 0')['revenue'])"
   ]
  },
  {
   "cell_type": "markdown",
   "metadata": {},
   "source": [
    "- (!) ARPPU (в нашем случае ранжированный доход) для пользователей в группах статистически значимо отличаются\n",
    "<br><br>\n",
    "- есть все основания отклонить нулевую гипотезу и сказать, что акционные предложения в тестовой группе влияют на средний доход с платящего пользования по-другому, нежели акционные предложения в контрольной группе\n",
    "- вероятность взять из тестовой группы более высокое по рангу значение оплаты, чем из контрольной группы - выше"
   ]
  },
  {
   "cell_type": "markdown",
   "metadata": {},
   "source": [
    "### Проведение AB-теста (2)\n",
    "#### Попробуем поработать с методом bootstrap и посмотреть уже действительно на ARPPU, посчитав средние значения в выборках. Как мы помним, некоторая разница в средних есть и она в пользу тестовой группы."
   ]
  },
  {
   "cell_type": "code",
   "execution_count": 56,
   "metadata": {},
   "outputs": [],
   "source": [
    "#создаём пустой список для разницы средних\n",
    "mean_diff = []\n",
    "\n",
    "#создаём цикл со случайным взятием из нужного числа выборок\n",
    "for i in range(10000):\n",
    "#делаем настройку, что возьмется изначальное количество рядов и что они будут браться с повторением в контрольной группе\n",
    "    sample_data_control = AB_mobil_games.query('testgroup == \"control\"').query('revenue > 0').sample(frac=1, replace=True)\n",
    "    #из получившегося датафрейма будем брать каждый раз среднее\n",
    "    sample_mean_control = sample_data_control.revenue.mean()\n",
    "    \n",
    "    #то же самое повторим для тестовой группы\n",
    "    sample_data_test = AB_mobil_games.query('testgroup == \"test\"').query('revenue > 0').sample(frac=1, replace=True)\n",
    "    sample_mean_test = sample_data_test.revenue.mean()\n",
    "    \n",
    "    #соберём каждый раз разницу в средних\n",
    "    sample_mean_diff = sample_mean_test - sample_mean_control\n",
    "    mean_diff.append(sample_mean_diff)"
   ]
  },
  {
   "cell_type": "code",
   "execution_count": 57,
   "metadata": {},
   "outputs": [
    {
     "data": {
      "text/plain": [
       "0.025    -66.130908\n",
       "0.975    734.597528\n",
       "dtype: float64"
      ]
     },
     "execution_count": 57,
     "metadata": {},
     "output_type": "execute_result"
    }
   ],
   "source": [
    "pd.Series(mean_diff).quantile([0.025, 0.975])\n",
    "#разница в средних включает в себя 0"
   ]
  },
  {
   "cell_type": "markdown",
   "metadata": {},
   "source": [
    "#### визуализируем, построив доверительный интервал значений распределения средних"
   ]
  },
  {
   "cell_type": "code",
   "execution_count": 98,
   "metadata": {},
   "outputs": [
    {
     "data": {
      "image/png": "[encoded data removed]",
      "text/plain": [
       "<Figure size 432x288 with 1 Axes>"
      ]
     },
     "metadata": {},
     "output_type": "display_data"
    }
   ],
   "source": [
    "#делаем из списка датафрейм\n",
    "mean_diff_data = pd.DataFrame(mean_diff)\n",
    "#определяем 95-процентный доверительный интервал\n",
    "conf_int = mean_diff_data.quantile([0.025, 0.975])\n",
    "\n",
    "#строим график с отсечками интервала\n",
    "sns.histplot(mean_diff, kde=False)\n",
    "\n",
    "plt.vlines(conf_int,ymin=0,ymax=80,linestyle='-')\n",
    "plt.xlabel('means')\n",
    "plt.ylabel('frec')\n",
    "plt.title(\"distribution of means differents\")\n",
    "\n",
    "plt.show()"
   ]
  },
  {
   "cell_type": "markdown",
   "metadata": {},
   "source": [
    "- (!) ARPPU для пользователей в группах статистически значимо не отличаются - нулевое значение (совпадение средних) находится внутри доверительного интервала.\n",
    "<br><br>\n",
    "- нулевую гипотезу не отклоняем - акционный наборы у тестовой и контрольной группы одинаково влияют на средний доход с платящего пользователя."
   ]
  },
  {
   "cell_type": "markdown",
   "metadata": {},
   "source": [
    "### Проведение AB-теста (3)\n",
    "#### С такими перепедами в значениях, конечно хорошо бы посчитать разницу в медианах, не усреднять значения"
   ]
  },
  {
   "cell_type": "code",
   "execution_count": 58,
   "metadata": {},
   "outputs": [
    {
     "data": {
      "text/plain": [
       "(311.0, 3022.0)"
      ]
     },
     "execution_count": 58,
     "metadata": {},
     "output_type": "execute_result"
    }
   ],
   "source": [
    "#поглядим на медианы наших распределений\n",
    "AB_mobil_games.query('testgroup == \"control\"').query('revenue > 0').revenue.median(), \\\n",
    "AB_mobil_games.query('testgroup == \"test\"').query('revenue > 0').revenue.median()\n",
    "#значительная разница"
   ]
  },
  {
   "cell_type": "code",
   "execution_count": 59,
   "metadata": {},
   "outputs": [],
   "source": [
    "#создаём пустой список для разницы медиан\n",
    "median_diff = []\n",
    "\n",
    "#создаём цикл со случайным взятием из нужного числа\n",
    "for i in range(10000):\n",
    "#делаем настройку, что возьмется изначальное количество рядов и что они будут браться с повторением по контрольной группе\n",
    "    sample_data_control = AB_mobil_games.query('testgroup == \"control\"').query('revenue > 0').sample(frac=1, replace=True)\n",
    "    #из получившегося датафрейма будем брать каждый раз медиану\n",
    "    sample_median_control = sample_data_control.revenue.median()\n",
    "    \n",
    "    #то же самое повторим для тестовой группы\n",
    "    sample_data_test = AB_mobil_games.query('testgroup == \"test\"').query('revenue > 0').sample(frac=1, replace=True)\n",
    "    sample_median_test = sample_data_test.revenue.median()\n",
    "    \n",
    "    #соберём каждый раз разницу в медианах\n",
    "    sample_median_diff = sample_median_test - sample_median_control\n",
    "    median_diff.append(sample_median_diff)"
   ]
  },
  {
   "cell_type": "code",
   "execution_count": 60,
   "metadata": {},
   "outputs": [
    {
     "data": {
      "text/plain": [
       "0.025    2658.5\n",
       "0.975    2760.0\n",
       "dtype: float64"
      ]
     },
     "execution_count": 60,
     "metadata": {},
     "output_type": "execute_result"
    }
   ],
   "source": [
    "pd.Series(median_diff).quantile([0.025, 0.975])\n",
    "#нулевого значения нет и близко"
   ]
  },
  {
   "cell_type": "markdown",
   "metadata": {},
   "source": [
    "#### визуализируем, построив доверительный интервал значений распределения средних"
   ]
  },
  {
   "cell_type": "code",
   "execution_count": 61,
   "metadata": {},
   "outputs": [
    {
     "data": {
      "image/png": "[encoded data removed]",
      "text/plain": [
       "<Figure size 432x288 with 1 Axes>"
      ]
     },
     "metadata": {
      "needs_background": "light"
     },
     "output_type": "display_data"
    }
   ],
   "source": [
    "#строим график с доверительным интервалом, как и выше, но теперь - для определения разниц в медианах\n",
    "median_diff_data = pd.DataFrame(median_diff)\n",
    "conf_int = median_diff_data.quantile([0.025, 0.975])\n",
    "\n",
    "sns.histplot(median_diff, kde=False)\n",
    "\n",
    "plt.vlines(conf_int,ymin=0,ymax=200,linestyle='-')\n",
    "plt.xlabel('medians')\n",
    "plt.ylabel('frec')\n",
    "plt.title(\"distribution of medians differents\")\n",
    "\n",
    "plt.show()"
   ]
  },
  {
   "cell_type": "markdown",
   "metadata": {},
   "source": [
    "- (!) Медианы доходов с платящих пользователей в группах статистически значимо отличаются - нулевого значения (совпадения) нет и близко.\n",
    "<br><br>\n",
    "- есть все основания отклонить нулевую гипотезу и сказать, что акционные предложения в тестовой группе влияют на доход с платящего пользования по-другому, нежели акционные предложения в контрольной группе\n",
    "\n",
    "- медиана доходов с платящих пользователей в тестовой группе выше, чем в контрольной"
   ]
  },
  {
   "cell_type": "markdown",
   "metadata": {},
   "source": [
    "### Дополнительно: Пока мы около bootstrap, рассчитаем разницу по 75-му процентилю\n",
    "Небольшие процентили будут очевидно в пользу тестовой группы. Также мы значем, что 6% в контрольной группе - это суперпокупки и они явно будут выше, чем в тестовой. Что лежит в 75 и других процентилях?"
   ]
  },
  {
   "cell_type": "code",
   "execution_count": 70,
   "metadata": {},
   "outputs": [],
   "source": [
    "#делаем по аналогии с примерами выше\n",
    "diff = []\n",
    "\n",
    "for i in range(10000):\n",
    "    sample_data_control = AB_mobil_games.query('testgroup == \"control\"').query('revenue > 0').sample(frac=1, replace=True)\n",
    "    sample_control = sample_data_control.revenue.quantile(q=0.95)#(q=0.85)\n",
    "    \n",
    "    #то же самое повторим для тестовой группы\n",
    "    sample_data_test = AB_mobil_games.query('testgroup == \"test\"').query('revenue > 0').sample(frac=1, replace=True)\n",
    "    sample_test = sample_data_test.revenue.quantile(q=0.95)#(q=0.85)\n",
    "    \n",
    "    #соберём каждый раз разницу в медианах\n",
    "    sample_diff = sample_test - sample_control\n",
    "    diff.append(sample_diff)"
   ]
  },
  {
   "cell_type": "code",
   "execution_count": 69,
   "metadata": {},
   "outputs": [
    {
     "data": {
      "image/png": "[encoded data removed]",
      "text/plain": [
       "<Figure size 432x288 with 1 Axes>"
      ]
     },
     "metadata": {
      "needs_background": "light"
     },
     "output_type": "display_data"
    }
   ],
   "source": [
    "#строим график с доверительным интервалом для определения разниц - 75-процентиль\n",
    "diff_data = pd.DataFrame(diff)\n",
    "conf_int = diff_data.quantile([0.025, 0.975])\n",
    "\n",
    "sns.histplot(diff, kde=False)\n",
    "\n",
    "plt.vlines(conf_int,ymin=0,ymax=250,linestyle='-')\n",
    "plt.xlabel('75%')\n",
    "plt.ylabel('frec')\n",
    "plt.title(\"distribution of 75-quantiles differents\")\n",
    "\n",
    "plt.show()"
   ]
  },
  {
   "cell_type": "code",
   "execution_count": 67,
   "metadata": {},
   "outputs": [
    {
     "data": {
      "image/png": "[encoded data removed]",
      "text/plain": [
       "<Figure size 432x288 with 1 Axes>"
      ]
     },
     "metadata": {
      "needs_background": "light"
     },
     "output_type": "display_data"
    }
   ],
   "source": [
    "#строим график с доверительным интервалом для определения разниц - 85-процентиль\n",
    "diff_data = pd.DataFrame(diff)\n",
    "conf_int = diff_data.quantile([0.025, 0.975])\n",
    "\n",
    "sns.histplot(diff, kde=False)\n",
    "\n",
    "plt.vlines(conf_int,ymin=0,ymax=250,linestyle='-')\n",
    "plt.xlabel('85%')\n",
    "plt.ylabel('frec')\n",
    "plt.title(\"distribution of 85-quantiles differents\")\n",
    "\n",
    "plt.show()"
   ]
  },
  {
   "cell_type": "markdown",
   "metadata": {},
   "source": [
    "### Метрика 3 CR\n",
    "\n",
    "конверсия в покупку, или доля платящих пользователей среди всех пользователей"
   ]
  },
  {
   "cell_type": "markdown",
   "metadata": {},
   "source": [
    "#### Визуализируем эти доли в двух группах, предварительно подготовив датасет:"
   ]
  },
  {
   "cell_type": "code",
   "execution_count": 73,
   "metadata": {},
   "outputs": [],
   "source": [
    "#создаём новую колонку с булевыми значениями оплаты (нулевая - True, ненулевая - False)\n",
    "AB_mobil_games['is_zero'] = AB_mobil_games['revenue'] == 0"
   ]
  },
  {
   "cell_type": "code",
   "execution_count": 74,
   "metadata": {},
   "outputs": [
    {
     "data": {
      "image/png": "[encoded data removed]",
      "text/plain": [
       "<Figure size 338.4x720 with 1 Axes>"
      ]
     },
     "metadata": {},
     "output_type": "display_data"
    }
   ],
   "source": [
    "sns.set(rc={'figure.figsize':(4.7,10)})\n",
    "ax = sns.histplot(AB_mobil_games, x='testgroup', hue = 'is_zero', multiple='stack')"
   ]
  },
  {
   "cell_type": "markdown",
   "metadata": {},
   "source": [
    "- как и указывалось в условии, в контрольной группе платящих пользователей немного больше, а сама группа немного меньше. Это видно и на графике"
   ]
  },
  {
   "cell_type": "markdown",
   "metadata": {},
   "source": [
    "#### Посчитаем конверсию в покупку у обеих групп:"
   ]
  },
  {
   "cell_type": "code",
   "execution_count": 75,
   "metadata": {},
   "outputs": [
    {
     "data": {
      "text/plain": [
       "0.009631572374172599"
      ]
     },
     "execution_count": 75,
     "metadata": {},
     "output_type": "execute_result"
    }
   ],
   "source": [
    "AB_mobil_games.query('testgroup == \"control\"').query('is_zero == False')['is_zero'].count() / \\\n",
    "AB_mobil_games.query('testgroup == \"control\"').query('is_zero == True')['is_zero'].count()"
   ]
  },
  {
   "cell_type": "code",
   "execution_count": 76,
   "metadata": {},
   "outputs": [
    {
     "data": {
      "text/plain": [
       "0.00898626917983491"
      ]
     },
     "execution_count": 76,
     "metadata": {},
     "output_type": "execute_result"
    }
   ],
   "source": [
    "AB_mobil_games.query('testgroup == \"test\"').query('is_zero == False')['is_zero'].count() / \\\n",
    "AB_mobil_games.query('testgroup == \"test\"').query('is_zero == True')['is_zero'].count()"
   ]
  },
  {
   "cell_type": "markdown",
   "metadata": {},
   "source": [
    "- и так тоже мы видим, что CR у контрольной группы выше"
   ]
  },
  {
   "cell_type": "markdown",
   "metadata": {},
   "source": [
    "#### Формирование гипотез\n",
    "- H0 - акционный наборы у тестовой и контрольной группы одинаково влияют желание пользователей заплатить за товар в приложении\n",
    "- H1 - акционные наборы мотивируют чаще покупать и меняют конверсию пользователя в покупку"
   ]
  },
  {
   "cell_type": "markdown",
   "metadata": {},
   "source": [
    "### Проведение AB-теста\n",
    "#### Переменные качественные (да\\нет), независимые и их всего две, поэтому проводим тест с помощью Хи-квадрата Пирсона:"
   ]
  },
  {
   "cell_type": "code",
   "execution_count": 77,
   "metadata": {},
   "outputs": [],
   "source": [
    "from scipy.stats import chi2_contingency"
   ]
  },
  {
   "cell_type": "code",
   "execution_count": 78,
   "metadata": {},
   "outputs": [
    {
     "data": {
      "text/plain": [
       "(4.374729521260405, 0.03647561892312613)"
      ]
     },
     "execution_count": 78,
     "metadata": {},
     "output_type": "execute_result"
    }
   ],
   "source": [
    "stat, p1, dof, chi = chi2_contingency(pd.crosstab(AB_mobil_games.testgroup, AB_mobil_games.is_zero))\n",
    "stat, p1 "
   ]
  },
  {
   "cell_type": "markdown",
   "metadata": {},
   "source": [
    "- (!) покупательский интерес для пользователей в группах статистически значимо отличается\n",
    "<br><br>\n",
    "- есть все основания отклонить нулевую гипотезу и сказать, что акционные предложения меняют конверсию в покупку\n",
    "- в контрольной группе CR статистически значимо выше"
   ]
  },
  {
   "cell_type": "markdown",
   "metadata": {},
   "source": [
    "### Дополнительно: Посчитаем общую выручку в каждой группе "
   ]
  },
  {
   "cell_type": "code",
   "execution_count": 79,
   "metadata": {},
   "outputs": [
    {
     "data": {
      "text/plain": [
       "5136189"
      ]
     },
     "execution_count": 79,
     "metadata": {},
     "output_type": "execute_result"
    }
   ],
   "source": [
    "AB_mobil_games.query('testgroup == \"control\"')['revenue'].sum()"
   ]
  },
  {
   "cell_type": "code",
   "execution_count": 38,
   "metadata": {},
   "outputs": [
    {
     "data": {
      "text/plain": [
       "5421603"
      ]
     },
     "execution_count": 38,
     "metadata": {},
     "output_type": "execute_result"
    }
   ],
   "source": [
    "AB_mobil_games.query('testgroup == \"test\"')['revenue'].sum()"
   ]
  },
  {
   "cell_type": "code",
   "execution_count": 39,
   "metadata": {},
   "outputs": [
    {
     "data": {
      "text/plain": [
       "5.264383983851271"
      ]
     },
     "execution_count": 39,
     "metadata": {},
     "output_type": "execute_result"
    }
   ],
   "source": [
    "(5421603 - 5136189) / 5421603 * 100"
   ]
  },
  {
   "cell_type": "code",
   "execution_count": 40,
   "metadata": {},
   "outputs": [
    {
     "data": {
      "text/plain": [
       "5406577.711096331"
      ]
     },
     "execution_count": 40,
     "metadata": {},
     "output_type": "execute_result"
    }
   ],
   "source": [
    "5136189 * 1.05264383983851271"
   ]
  },
  {
   "cell_type": "markdown",
   "metadata": {},
   "source": [
    "- в тестовой группе выручка больше на 5.3 % (почти как и средний чек на пользователя)"
   ]
  },
  {
   "cell_type": "markdown",
   "metadata": {},
   "source": [
    "### Выводы"
   ]
  },
  {
   "cell_type": "markdown",
   "metadata": {},
   "source": [
    "- Результаты исследования неоднозначны, что говорит о слишком разных акционных предложениях со своими плюсами и минусами. \n",
    "- Не хватает данных времени, чтобы можно было оценить, в какие сроки совершались разного размера покупки, может быть это дало бы большее понимание для принятия решения.\n",
    "<br><br>\n",
    "- На данный момент, если и выкатывать предложения на всех, то рекомендуется склониться к предложениям из тестовой группы. Там стабильные и сравнительно крупные покупки, выше общий доход (основополагающий показатель бизнеса), хоть и всего на 5,3%. Абсолютное значение ARPPU выше (хоть и незначительно), ранжированное значение ARPPU статистически значимо выше, медианное (а также более высокие процентили) значение дохода с платящих пользователей также статистически значимо выше, чем в контрольной группе. Всё это чаще всего значимее для бизнеса, чем конверсия в покупку и небольшой процент весьма нестабильных суперпокупок.\n",
    "<br><br>\n",
    "- Да, контрольная группа конвертится лучше (а значит - что-то пользователей здорово мотивирует покупать), но предложения такие, что покупки в подавляющем большинстве мизерные по сравнению с тестовой группой, а ведь число покупок сопоставимое. В контрольной группе большинство интересуются, пробуют, но потратиться хорошенько мотивации у них не хватает. Конечно, есть 6% суперпокупателей - это те, чьё сердечко прямо задело и они готовы хорошо вложиться, либо это крупные клиенты затесались среди обычных (тогда есть вопросы к дизайну исследования). Как бы то ни было, убери\\потеряй их и провалишься дальше некуда. В этом ненадёжность ставки на предложения из контрольной группы. Эти предложения надо доработать так, чтобы с ними ощутимо подрос общий доход, или чтобы доля суперпокупок стала такой, чтобы среднее значение на платящего пользователя значительно выше, чем в тестовой группе. И вот тогда (тоже не без риска) можно подумать об их раскатывании.\n",
    "<br><br>\n",
    "- А пока есть смысл раскатывать добротные и надёжные как AK-74 предложения из тестовой группы. А ещё лучше подумать, что улучшает конверсию в контрольной группе и добавить это в предложения тестовой.\n",
    "<br><br>\n",
    "- (!)Оговорка одна - если стадия бизнес-модели или ориентированность бизнеса в данный момент нацелена именно на конверсию, или в данном периоде был уговор посмотреть на свои мощности и \"пробить\" порог, к примеру, в 30 тыс. у.е., посмотрев на активность суперклиентов, то тогда, безусловно, катить стоит контрольную. Но этого из условий мы не знаем, аналитику следует обсудить такие вещи с бизнесом обязательно.\n"
   ]
  },
  {
   "cell_type": "markdown",
   "metadata": {},
   "source": [
    "##### Задание взято из программы обучения на Аналитика данных  в Karpov Courses"
   ]
  }
 ],
 "metadata": {
  "kernelspec": {
   "display_name": "Python 3",
   "language": "python",
   "name": "python3"
  },
  "language_info": {
   "codemirror_mode": {
    "name": "ipython",
    "version": 3
   },
   "file_extension": ".py",
   "mimetype": "text/x-python",
   "name": "python",
   "nbconvert_exporter": "python",
   "pygments_lexer": "ipython3",
   "version": "3.7.3"
  }
 },
 "nbformat": 4,
 "nbformat_minor": 4
}
